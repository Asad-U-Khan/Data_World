{
 "cells": [
  {
   "cell_type": "markdown",
   "id": "0f8a9726",
   "metadata": {},
   "source": [
    "### Lists Tasks"
   ]
  },
  {
   "cell_type": "code",
   "execution_count": 2,
   "id": "6c1a31f8",
   "metadata": {},
   "outputs": [
    {
     "name": "stdout",
     "output_type": "stream",
     "text": [
      "Enter no of elements in list: 5\n",
      "Enter number: 1\n",
      "Enter number: 2\n",
      "Enter number: 3\n",
      "Enter number: 4\n",
      "Enter number: 5\n",
      "Original List:\n",
      "[1, 2, 3, 4, 5]\n",
      "Alternating elments List:\n",
      "[1, 3, 5]\n"
     ]
    }
   ],
   "source": [
    "n = int(input(\"Enter no of elements in list: \"))\n",
    "l = []\n",
    "for i in range(n):\n",
    "    val = int(input(\"Enter number: \"))\n",
    "    l.append(val)\n",
    "\n",
    "print(\"Original List:\")    \n",
    "print(l)    \n",
    "print(\"Alternating elments List:\")\n",
    "print(l[::2])    "
   ]
  },
  {
   "cell_type": "code",
   "execution_count": 3,
   "id": "4703ef85",
   "metadata": {},
   "outputs": [
    {
     "name": "stdout",
     "output_type": "stream",
     "text": [
      "Enter no of elements in list: 5\n",
      "Enter number: 1\n",
      "Enter number: 2\n",
      "Enter number: 3\n",
      "Enter number: 4\n",
      "Enter number: 5\n",
      "Original List:\n",
      "[1, 2, 3, 4, 5]\n",
      "Reversed List:\n",
      "[5, 4, 3, 2, 1]\n"
     ]
    }
   ],
   "source": [
    "n = int(input(\"Enter no of elements in list: \"))\n",
    "l = []\n",
    "for i in range(n):\n",
    "    val = int(input(\"Enter number: \"))\n",
    "    l.append(val)\n",
    "    \n",
    "print(\"Original List:\")    \n",
    "print(l)    \n",
    "print(\"Reversed List:\")\n",
    "l = l[-1::-1]\n",
    "print(l)     "
   ]
  },
  {
   "cell_type": "code",
   "execution_count": 6,
   "id": "f67369de",
   "metadata": {},
   "outputs": [
    {
     "name": "stdout",
     "output_type": "stream",
     "text": [
      "Enter no of elements in list: 5\n",
      "Enter number: 5\n",
      "Enter number: 7\n",
      "Enter number: 2\n",
      "Enter number: 3\n",
      "Enter number: 9\n",
      "Your List:\n",
      "[5, 7, 2, 3, 9]\n",
      "Max element of List:  9\n"
     ]
    }
   ],
   "source": [
    "n = int(input(\"Enter no of elements in list: \"))\n",
    "l = []\n",
    "for i in range(n):\n",
    "    val = int(input(\"Enter number: \"))\n",
    "    l.append(val)\n",
    "    \n",
    "print(\"Your List:\")    \n",
    "print(l)    \n",
    "print(\"Max element of List: \",sorted(l,reverse=True)[0])"
   ]
  },
  {
   "cell_type": "code",
   "execution_count": 21,
   "id": "b88796d3",
   "metadata": {},
   "outputs": [
    {
     "name": "stdout",
     "output_type": "stream",
     "text": [
      "[5, 1, 2, 3, 4]\n"
     ]
    }
   ],
   "source": [
    "l = [1,2,3,4,5]\n",
    "l1 = l.copy()\n",
    "for i in range(1,len(l)+1):\n",
    "    if i == len(l):\n",
    "        l1[0] = l[-1]\n",
    "    else:\n",
    "        l1[i] = l[i-1]\n",
    "print(l1)    "
   ]
  },
  {
   "cell_type": "code",
   "execution_count": 29,
   "id": "ffb48a4a",
   "metadata": {},
   "outputs": [
    {
     "name": "stdout",
     "output_type": "stream",
     "text": [
      "Enter a string: i got a good goodie bag\n",
      "Enter a word you want to delete: good\n",
      "Original String: i got a good goodie bag\n",
      "After deleting word good : i got a goodie bag\n"
     ]
    }
   ],
   "source": [
    "s = input(\"Enter a string: \")\n",
    "w = input(\"Enter a word you want to delete: \")\n",
    "\n",
    "print(\"Original String:\",s)\n",
    "l = s.split()\n",
    "l.remove(w)\n",
    "s = ' '.join(l)\n",
    "print(\"After deleting word\",w,\":\",s)"
   ]
  },
  {
   "cell_type": "code",
   "execution_count": 61,
   "id": "46253182",
   "metadata": {},
   "outputs": [
    {
     "name": "stdout",
     "output_type": "stream",
     "text": [
      "Enter date: 06/06/2003\n",
      "June 06, 2003\n",
      "Enter date: 06/06/2003\n",
      "June 6, 2003\n"
     ]
    }
   ],
   "source": [
    "# Approach 1\n",
    "import datetime\n",
    "s = input(\"Enter date: \")\n",
    "date = datetime.datetime.strptime(s,'%m/%d/%Y')\n",
    "print(date.strftime('%B %d, %Y'))\n",
    "\n",
    "# Approach 2\n",
    "s = input(\"Enter date: \")\n",
    "month,day,year = s.split(\"/\")\n",
    "months = {'01':'January','02':'February','03':'March','04':'April','05':'May','06':'June','07':'July','08':'August',\n",
    "         '09':'September','10':'October','11':'November','12':'December'}\n",
    "print(f\"{months[month]} {int(day)}, {year}\")"
   ]
  },
  {
   "cell_type": "code",
   "execution_count": 68,
   "id": "1d9ceb41",
   "metadata": {},
   "outputs": [
    {
     "name": "stdout",
     "output_type": "stream",
     "text": [
      "Enter a string:stop and smell the roses\n",
      "Stop And Smell The Roses\n"
     ]
    }
   ],
   "source": [
    "def cap(s):\n",
    "    return s.title()\n",
    "\n",
    "s = input(\"Enter a string:\")\n",
    "print(cap(s))"
   ]
  },
  {
   "cell_type": "code",
   "execution_count": 80,
   "id": "cac1b53f",
   "metadata": {},
   "outputs": [
    {
     "name": "stdout",
     "output_type": "stream",
     "text": [
      "Sum of Row 1: 6\n",
      "Sum of Row 2: 15\n",
      "Sum of Row 3: 21\n"
     ]
    }
   ],
   "source": [
    "# Couldn't understand the matrix in tasks so assumed a matrix\n",
    "mat = [[1,2,3],\n",
    "       [4,5,6],\n",
    "       [6,7,8]]\n",
    "c = 0\n",
    "for i in mat:\n",
    "    s = 0\n",
    "    for j in i:\n",
    "        s += j\n",
    "    c += 1    \n",
    "    print(f\"Sum of Row {c}: {s}\")"
   ]
  },
  {
   "cell_type": "code",
   "execution_count": 111,
   "id": "d6da7b3a",
   "metadata": {},
   "outputs": [
    {
     "name": "stdout",
     "output_type": "stream",
     "text": [
      "Matrix sum: \n",
      "[2, 4, 6]\n",
      "[8, 10, 12]\n"
     ]
    }
   ],
   "source": [
    "mat1 = [[1,2,3],\n",
    "        [4,5,6]]\n",
    "\n",
    "mat2 = [[1,2,3],\n",
    "        [4,5,6]]\n",
    "\n",
    "mat3 = []\n",
    "if len(mat1) != len(mat2) or len(mat1[0]) != len(mat2[0]):\n",
    "    print(\"Either number of rows or cols in both matrices aren't same\")\n",
    "else:\n",
    "    for i in range(len(mat1)):\n",
    "        temp = []\n",
    "        for j in range(len(mat1[0])):\n",
    "            temp.append(mat1[i][j] + mat2[i][j])\n",
    "        mat3.append(temp)   \n",
    "\n",
    "    print(\"Matrix sum: \")            \n",
    "    for i in mat3:\n",
    "        print(i)    "
   ]
  },
  {
   "cell_type": "code",
   "execution_count": 112,
   "id": "c76a170f",
   "metadata": {},
   "outputs": [
    {
     "name": "stdout",
     "output_type": "stream",
     "text": [
      "[19, 22]\n",
      "[43, 50]\n"
     ]
    }
   ],
   "source": [
    "mat1 = [[1,2],\n",
    "        [3,4]]\n",
    "\n",
    "mat2 = [[5,6],\n",
    "        [7,8]]\n",
    "\n",
    "if len(mat1[0]) != len(mat2):\n",
    "    print(\"Cannot multiply\")\n",
    "else:\n",
    "    mat3 = [[0 for i in range(len(mat2[0]))] for i in range(len(mat1))]\n",
    "\n",
    "    for i in range(len(mat1)):\n",
    "        for j in range(len(mat2[0])):\n",
    "            for k in range(len(mat2)):\n",
    "                mat3[i][j] += mat1[i][k] * mat2[k][j]   \n",
    "    \n",
    "    for i in mat3:\n",
    "        print(i)    "
   ]
  },
  {
   "cell_type": "markdown",
   "id": "4b392616",
   "metadata": {},
   "source": [
    "### Loops Tasks"
   ]
  },
  {
   "cell_type": "code",
   "execution_count": 114,
   "id": "b0bfea2d",
   "metadata": {},
   "outputs": [
    {
     "name": "stdout",
     "output_type": "stream",
     "text": [
      "1\n",
      "2\n",
      "3\n",
      "4\n",
      "5\n",
      "6\n",
      "7\n",
      "8\n",
      "9\n",
      "10\n"
     ]
    }
   ],
   "source": [
    "for i in range(1,11):\n",
    "    print(i)"
   ]
  },
  {
   "cell_type": "code",
   "execution_count": 115,
   "id": "14b6919b",
   "metadata": {},
   "outputs": [
    {
     "name": "stdout",
     "output_type": "stream",
     "text": [
      "20\n",
      "19\n",
      "18\n",
      "17\n",
      "16\n",
      "15\n",
      "14\n",
      "13\n",
      "12\n",
      "11\n",
      "10\n",
      "9\n",
      "8\n",
      "7\n",
      "6\n",
      "5\n",
      "4\n",
      "3\n",
      "2\n",
      "1\n"
     ]
    }
   ],
   "source": [
    "i = 20\n",
    "while i >= 1:\n",
    "    print(i)\n",
    "    i -= 1"
   ]
  },
  {
   "cell_type": "code",
   "execution_count": 116,
   "id": "a0faf422",
   "metadata": {},
   "outputs": [
    {
     "name": "stdout",
     "output_type": "stream",
     "text": [
      "2\n",
      "4\n",
      "6\n",
      "8\n",
      "10\n"
     ]
    }
   ],
   "source": [
    "for i in range(1,11):\n",
    "    if i % 2 == 0:\n",
    "        print(i)"
   ]
  },
  {
   "cell_type": "code",
   "execution_count": 117,
   "id": "35f53908",
   "metadata": {},
   "outputs": [
    {
     "name": "stdout",
     "output_type": "stream",
     "text": [
      "Enter a number: 7\n",
      "1\n",
      "2\n",
      "3\n",
      "4\n",
      "5\n",
      "6\n",
      "7\n"
     ]
    }
   ],
   "source": [
    "n = int(input(\"Enter a number: \"))\n",
    "for i in range(1,n+1):\n",
    "    print(i)"
   ]
  },
  {
   "cell_type": "code",
   "execution_count": 118,
   "id": "fd5ac030",
   "metadata": {},
   "outputs": [
    {
     "name": "stdout",
     "output_type": "stream",
     "text": [
      "Enter a number: 10\n",
      "1\n",
      "3\n",
      "5\n",
      "7\n",
      "9\n"
     ]
    }
   ],
   "source": [
    "n = int(input(\"Enter a number: \"))\n",
    "for i in range(1,n+1):\n",
    "    if i % 2 != 0:\n",
    "        print(i)"
   ]
  },
  {
   "cell_type": "code",
   "execution_count": 119,
   "id": "13b03429",
   "metadata": {},
   "outputs": [
    {
     "name": "stdout",
     "output_type": "stream",
     "text": [
      "Happy Birthday!\n",
      "Happy Birthday!\n",
      "Happy Birthday!\n",
      "Happy Birthday!\n",
      "Happy Birthday!\n"
     ]
    }
   ],
   "source": [
    "for i in range(5):\n",
    "    print(\"Happy Birthday!\")"
   ]
  },
  {
   "cell_type": "code",
   "execution_count": 120,
   "id": "fd6836f5",
   "metadata": {},
   "outputs": [
    {
     "name": "stdout",
     "output_type": "stream",
     "text": [
      "Enter a number: 6\n",
      "1 4 9 16 25 36 "
     ]
    }
   ],
   "source": [
    "n = int(input(\"Enter a number: \"))\n",
    "for i in range(1,n+1):\n",
    "    print(i*i,end=\" \")"
   ]
  },
  {
   "cell_type": "code",
   "execution_count": 121,
   "id": "5c9c74b3",
   "metadata": {},
   "outputs": [
    {
     "name": "stdout",
     "output_type": "stream",
     "text": [
      "Enter a number: 6\n",
      "6 x 1 = 6\n",
      "6 x 2 = 12\n",
      "6 x 3 = 18\n",
      "6 x 4 = 24\n",
      "6 x 5 = 30\n",
      "6 x 6 = 36\n",
      "6 x 7 = 42\n",
      "6 x 8 = 48\n",
      "6 x 9 = 54\n",
      "6 x 10 = 60\n",
      "6 x 11 = 66\n",
      "6 x 12 = 72\n"
     ]
    }
   ],
   "source": [
    "n = int(input(\"Enter a number: \"))\n",
    "for i in range(1,13):\n",
    "    print(f\"{n} x {i} = {n*i}\")"
   ]
  },
  {
   "cell_type": "code",
   "execution_count": 129,
   "id": "760e9b21",
   "metadata": {},
   "outputs": [
    {
     "name": "stdout",
     "output_type": "stream",
     "text": [
      "3 7 11 15 19 23 27 31 "
     ]
    }
   ],
   "source": [
    "a = 3\n",
    "n = 8\n",
    "d = 4\n",
    "for i in range(1,n+1):\n",
    "    print(a + (i - 1)*d,end=\" \")"
   ]
  },
  {
   "cell_type": "code",
   "execution_count": 130,
   "id": "99f25d69",
   "metadata": {},
   "outputs": [
    {
     "name": "stdout",
     "output_type": "stream",
     "text": [
      "2 6 18 54 162 486 "
     ]
    }
   ],
   "source": [
    "a = 2\n",
    "r = 3\n",
    "n = 6\n",
    "for i in range(1,n+1):\n",
    "    print(a * r ** (i-1),end=\" \")"
   ]
  },
  {
   "cell_type": "code",
   "execution_count": 131,
   "id": "703abeb4",
   "metadata": {},
   "outputs": [
    {
     "name": "stdout",
     "output_type": "stream",
     "text": [
      "Enter a number: 6\n",
      "Sum of numbers from 1 to 6 is 21\n"
     ]
    }
   ],
   "source": [
    "n = int(input(\"Enter a number: \"))\n",
    "s = 0\n",
    "for i in range(1,n+1):\n",
    "    s += i\n",
    "print(f\"Sum of numbers from {1} to {n} is {s}\")    "
   ]
  },
  {
   "cell_type": "code",
   "execution_count": 132,
   "id": "f82d6738",
   "metadata": {},
   "outputs": [
    {
     "name": "stdout",
     "output_type": "stream",
     "text": [
      "Enter a number: 5\n",
      "Sum of reciprocals of numbers from 1 to 5 is 2.28\n"
     ]
    }
   ],
   "source": [
    "n = int(input(\"Enter a number: \"))\n",
    "s = 0\n",
    "for i in range(1,n+1):\n",
    "    s += 1/i\n",
    "print(f\"Sum of reciprocals of numbers from {1} to {n} is {round(s,2)}\")   "
   ]
  },
  {
   "cell_type": "code",
   "execution_count": 134,
   "id": "c465826e",
   "metadata": {},
   "outputs": [
    {
     "name": "stdout",
     "output_type": "stream",
     "text": [
      "Enter a number: 10\n",
      "Enter a number: 15\n",
      "Enter a number: 35\n",
      "Enter a number: 40\n",
      "Enter a number: 50\n",
      "The final running total:  150\n"
     ]
    }
   ],
   "source": [
    "s = 0\n",
    "for i in range(5):\n",
    "    val = int(input(\"Enter a number: \"))\n",
    "    s += val\n",
    "    \n",
    "print(\"The final running total: \",s)    "
   ]
  },
  {
   "cell_type": "code",
   "execution_count": 139,
   "id": "1d16ce34",
   "metadata": {},
   "outputs": [
    {
     "name": "stdout",
     "output_type": "stream",
     "text": [
      "Enter a number: 5\n",
      "Value of 5! is 120\n"
     ]
    }
   ],
   "source": [
    "n = int(input(\"Enter a number: \"))\n",
    "if n == 0:\n",
    "    print(f\"Value of {n}! is 1\")\n",
    "elif n < 0:\n",
    "    print(f\"Factorial doesnot exists for negative numbers\")\n",
    "else:\n",
    "    s = 1\n",
    "    for i in range(1,n+1):\n",
    "        s *= i\n",
    "    print(f\"Value of {n}! is {s}\")"
   ]
  },
  {
   "cell_type": "code",
   "execution_count": 148,
   "id": "6165af27",
   "metadata": {},
   "outputs": [
    {
     "name": "stdout",
     "output_type": "stream",
     "text": [
      "Enter value of base number: 3\n",
      "Enter value of exponent: -3\n",
      "3 power -3 is 1/27 which is 0.037\n"
     ]
    }
   ],
   "source": [
    "base = int(input(\"Enter value of base number: \"))\n",
    "exp = int(input(\"Enter value of exponent: \"))\n",
    "neg = False\n",
    "\n",
    "if exp < 0:\n",
    "    neg = True\n",
    "    exp *= -1\n",
    "s = 1\n",
    "for i in range(exp):\n",
    "    s *= base\n",
    "if neg:\n",
    "    print(f\"{base} power -{exp} is 1/{s} which is {round(1/s,3)}\")  \n",
    "else:\n",
    "    print(f\"{base} power {exp} is {s}\")    "
   ]
  },
  {
   "cell_type": "code",
   "execution_count": null,
   "id": "955223b1",
   "metadata": {},
   "outputs": [],
   "source": []
  }
 ],
 "metadata": {
  "kernelspec": {
   "display_name": "Python 3 (ipykernel)",
   "language": "python",
   "name": "python3"
  },
  "language_info": {
   "codemirror_mode": {
    "name": "ipython",
    "version": 3
   },
   "file_extension": ".py",
   "mimetype": "text/x-python",
   "name": "python",
   "nbconvert_exporter": "python",
   "pygments_lexer": "ipython3",
   "version": "3.9.13"
  }
 },
 "nbformat": 4,
 "nbformat_minor": 5
}
