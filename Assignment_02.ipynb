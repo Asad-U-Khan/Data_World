{
 "cells": [
  {
   "cell_type": "markdown",
   "metadata": {
    "id": "bb0O0xtk1v9t"
   },
   "source": [
    "## Task 01:\n",
    "\n",
    "Print Your Name with your Father name and Date of birth using suitable escape sequence charactor\n",
    "\n"
   ]
  },
  {
   "cell_type": "code",
   "execution_count": 4,
   "metadata": {
    "id": "U7LLGIkO2Ixa"
   },
   "outputs": [
    {
     "name": "stdout",
     "output_type": "stream",
     "text": [
      "Name: Asad\n",
      "Father Name: Shoaib\n",
      "DOB: 6-6-2003\n"
     ]
    }
   ],
   "source": [
    "# Write your code here\n",
    "print(\"Name: Asad\\nFather Name: Shoaib\\nDOB: 6-6-2003\")"
   ]
  },
  {
   "cell_type": "markdown",
   "metadata": {
    "id": "TU-xwiLV2NgB"
   },
   "source": [
    "# Task 02:\n",
    "\n",
    "Write your small bio using variables and print it using print function"
   ]
  },
  {
   "cell_type": "code",
   "execution_count": 7,
   "metadata": {
    "id": "Dw8w3rwl2wDB"
   },
   "outputs": [
    {
     "name": "stdout",
     "output_type": "stream",
     "text": [
      "I am Asad \n",
      "I am 20 years old\n",
      "I study at FAST\n"
     ]
    }
   ],
   "source": [
    "# Write your code here\n",
    "name = \"Asad\"\n",
    "age = 20\n",
    "Uni = \"FAST\"\n",
    "\n",
    "print(\"I am\",name,\"\\nI am\",age,\"years old\\nI study at\",Uni)"
   ]
  },
  {
   "cell_type": "markdown",
   "metadata": {
    "id": "F2lcZuDe2ztv"
   },
   "source": [
    "# Task 03:\n",
    "\n",
    "Write a program in which use all the operators we can use in Python"
   ]
  },
  {
   "cell_type": "code",
   "execution_count": 9,
   "metadata": {
    "id": "lEJhzsXh3e7K"
   },
   "outputs": [
    {
     "name": "stdout",
     "output_type": "stream",
     "text": [
      "15\n",
      "5\n",
      "2.0\n",
      "50\n",
      "0\n",
      "100000\n",
      "3\n"
     ]
    }
   ],
   "source": [
    "# Write your code here\n",
    "a = 10\n",
    "b = 5\n",
    "\n",
    "print(a+b)\n",
    "print(a-b)\n",
    "print(a/b)\n",
    "print(a*b)\n",
    "print(a%b)\n",
    "print(a**b)\n",
    "print(10//3)"
   ]
  },
  {
   "cell_type": "markdown",
   "metadata": {
    "id": "i4N14TJU3l7n"
   },
   "source": [
    "# Task 04:\n",
    "\n",
    "\n",
    "1. Mention Marks of English , Islamiat and Maths out of 100 in 3 different variables\n",
    "\n",
    "2. Mention Variable of Total Marks and assign 300 to it\n",
    "\n",
    "3. Calculate Percentage"
   ]
  },
  {
   "cell_type": "code",
   "execution_count": 12,
   "metadata": {
    "id": "nxojzvRg5PP4"
   },
   "outputs": [
    {
     "name": "stdout",
     "output_type": "stream",
     "text": [
      "Percentage is: 85.0 %\n"
     ]
    }
   ],
   "source": [
    "# Write your code here\n",
    "eng_marks = 80\n",
    "isl_marks = 90\n",
    "math_marks = 85\n",
    "total_marks = 300\n",
    "\n",
    "print(\"Percentage is:\",((eng_marks+isl_marks+math_marks)/total_marks)*100,\"%\")"
   ]
  },
  {
   "cell_type": "code",
   "execution_count": null,
   "metadata": {},
   "outputs": [],
   "source": []
  }
 ],
 "metadata": {
  "colab": {
   "provenance": []
  },
  "kernelspec": {
   "display_name": "Python 3 (ipykernel)",
   "language": "python",
   "name": "python3"
  },
  "language_info": {
   "codemirror_mode": {
    "name": "ipython",
    "version": 3
   },
   "file_extension": ".py",
   "mimetype": "text/x-python",
   "name": "python",
   "nbconvert_exporter": "python",
   "pygments_lexer": "ipython3",
   "version": "3.9.13"
  }
 },
 "nbformat": 4,
 "nbformat_minor": 1
}
