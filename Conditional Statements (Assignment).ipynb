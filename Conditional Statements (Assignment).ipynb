{
 "cells": [
  {
   "cell_type": "markdown",
   "metadata": {},
   "source": [
    "1) A company decided to give bonus of 5% to employee if his/her year of service is more than 5 years.\n",
    "Ask user for their salary and year of service and print the net bonus amount."
   ]
  },
  {
   "cell_type": "code",
   "execution_count": 37,
   "metadata": {},
   "outputs": [
    {
     "name": "stdout",
     "output_type": "stream",
     "text": [
      "Enter your years of service: 6\n",
      "Enter your salary: 10000\n",
      "You got a bonus!\n",
      "Net Bonus:  500.0\n",
      "Your New Salary:  10500.0\n"
     ]
    }
   ],
   "source": [
    "years = int(input(\"Enter your years of service: \"))\n",
    "salary = int(input(\"Enter your salary: \"))\n",
    "\n",
    "if(years>5):\n",
    "    print(\"You got a bonus!\")\n",
    "    print(\"Net Bonus: \",salary*0.05)\n",
    "    print(\"Your New Salary: \",salary*1.05)\n",
    "else:\n",
    "    print(\"Not eligible for bonus yet\")"
   ]
  },
  {
   "cell_type": "markdown",
   "metadata": {},
   "source": [
    "\n",
    "2) Write a program to check whether a person is eligible for voting or not. (accept age from user) if age is greater than 17 eligible otherwise not eligible"
   ]
  },
  {
   "cell_type": "code",
   "execution_count": 38,
   "metadata": {},
   "outputs": [
    {
     "name": "stdout",
     "output_type": "stream",
     "text": [
      "Enter your age: 16\n",
      "You are not elgibile for voting\n"
     ]
    }
   ],
   "source": [
    "age = int(input(\"Enter your age: \"))\n",
    "if(age>17):\n",
    "    print(\"You are eligible for voting\")\n",
    "else:\n",
    "    print(\"You are not elgibile for voting\")"
   ]
  },
  {
   "cell_type": "markdown",
   "metadata": {},
   "source": [
    "\n",
    "3) Write a program to check whether a number entered by user is even or odd."
   ]
  },
  {
   "cell_type": "code",
   "execution_count": 39,
   "metadata": {},
   "outputs": [
    {
     "name": "stdout",
     "output_type": "stream",
     "text": [
      "Enter a number: 21\n",
      "21 is odd\n"
     ]
    }
   ],
   "source": [
    "num = int(input(\"Enter a number: \"))\n",
    "\n",
    "if num%2==0:\n",
    "    print(f\"{num} is even\")\n",
    "else:\n",
    "    print(f\"{num} is odd\")"
   ]
  },
  {
   "cell_type": "markdown",
   "metadata": {},
   "source": [
    "4) Write a program to check whether a number is divisible by 7 or not.\n",
    "Show Answer"
   ]
  },
  {
   "cell_type": "code",
   "execution_count": 40,
   "metadata": {},
   "outputs": [
    {
     "name": "stdout",
     "output_type": "stream",
     "text": [
      "Enter a number: 49\n",
      "49 is divisible by 7 with answer 7.0\n"
     ]
    }
   ],
   "source": [
    "num = int(input(\"Enter a number: \"))\n",
    "\n",
    "if num%7==0:\n",
    "    print(f\"{num} is divisible by 7 with answer {num/7}\")\n",
    "else:\n",
    "    print(f\"{num} is not divisible by 7\")"
   ]
  },
  {
   "cell_type": "markdown",
   "metadata": {},
   "source": [
    "5) Write a program to display \n",
    "\"Hello\" if a number entered by user is a multiple of five , otherwise print \"Bye\"."
   ]
  },
  {
   "cell_type": "code",
   "execution_count": 41,
   "metadata": {},
   "outputs": [
    {
     "name": "stdout",
     "output_type": "stream",
     "text": [
      "Enter a number: 50\n",
      "Hello\n"
     ]
    }
   ],
   "source": [
    "num = int(input(\"Enter a number: \"))\n",
    "\n",
    "if num%5==0:\n",
    "    print(\"Hello\")\n",
    "else:\n",
    "    print(\"Bye\")"
   ]
  },
  {
   "cell_type": "markdown",
   "metadata": {},
   "source": [
    "7) Write a program to display the last digit of a number.\n"
   ]
  },
  {
   "cell_type": "code",
   "execution_count": 42,
   "metadata": {},
   "outputs": [
    {
     "name": "stdout",
     "output_type": "stream",
     "text": [
      "Enter a number: 12345\n",
      "Last digit of 12345 is 5\n",
      "Last digit of 12345 is 5\n"
     ]
    }
   ],
   "source": [
    "num = int(input(\"Enter a number: \"))\n",
    "\n",
    "# Approach 1\n",
    "print(f\"Last digit of {num} is {str(num)[-1]}\")\n",
    "\n",
    "# Approach 2\n",
    "print(f\"Last digit of {num} is {num%10}\")"
   ]
  },
  {
   "cell_type": "markdown",
   "metadata": {},
   "source": [
    "9) Take values of length and breadth of a rectangle from user and print if it is square or rectangle."
   ]
  },
  {
   "cell_type": "code",
   "execution_count": 43,
   "metadata": {},
   "outputs": [
    {
     "name": "stdout",
     "output_type": "stream",
     "text": [
      "Enter value of length: 11\n",
      "Enter value of breadth: 12\n",
      "It is a rectangle\n"
     ]
    }
   ],
   "source": [
    "length = int(input(\"Enter value of length: \"))\n",
    "breadth = int(input(\"Enter value of breadth: \"))\n",
    "\n",
    "if length==breadth:\n",
    "    print(\"It is a square\")\n",
    "else:    \n",
    "    print(\"It is a rectangle\")"
   ]
  },
  {
   "cell_type": "markdown",
   "metadata": {},
   "source": [
    "10) Take two int values from user and print greatest among them."
   ]
  },
  {
   "cell_type": "code",
   "execution_count": 44,
   "metadata": {},
   "outputs": [
    {
     "name": "stdout",
     "output_type": "stream",
     "text": [
      "Enter first number: 32\n",
      "Enter second number: 29\n",
      "First number 32 is greatest\n"
     ]
    }
   ],
   "source": [
    "num1 = int(input(\"Enter first number: \"))\n",
    "num2 = int(input(\"Enter second number: \"))\n",
    "\n",
    "if num1 > num2:\n",
    "    print(f\"First number {num1} is greatest\")\n",
    "elif num2 > num1:\n",
    "    print(f\"Second number {num2} is greatest\")\n",
    "else:    \n",
    "    print(\"Both numbers are equal\")"
   ]
  },
  {
   "cell_type": "markdown",
   "metadata": {},
   "source": [
    "11) A shop will give discount of 10% if the cost of purchased quantity is more than 1000.\n",
    "Ask user for quantity\n",
    "Suppose, one unit will cost 100.\n",
    "Judge and print total cost for user."
   ]
  },
  {
   "cell_type": "code",
   "execution_count": 45,
   "metadata": {},
   "outputs": [
    {
     "name": "stdout",
     "output_type": "stream",
     "text": [
      "Enter quantity: 100\n",
      "Total cost after discount is  9000.0\n"
     ]
    }
   ],
   "source": [
    "quantity = int(input(\"Enter quantity: \"))\n",
    "\n",
    "if (quantity*100) > 1000:\n",
    "    print(\"Total cost after discount is \",(quantity*100)*0.9)\n",
    "else:\n",
    "    print(\"Total cost is \",(quantity*100))    "
   ]
  },
  {
   "cell_type": "markdown",
   "metadata": {},
   "source": [
    "12) A school has following rules for grading system:\n",
    "\n",
    "a. Below 25 - F\n",
    "\n",
    "b. 25 to 45 - E\n",
    "\n",
    "c. 45 to 50 - D\n",
    "\n",
    "d. 50 to 60 - C\n",
    "\n",
    "e. 60 to 80 - B\n",
    "\n",
    "f. Above 80 - A\n",
    "\n",
    "Ask user to enter marks and print the corresponding grade."
   ]
  },
  {
   "cell_type": "code",
   "execution_count": 46,
   "metadata": {},
   "outputs": [
    {
     "name": "stdout",
     "output_type": "stream",
     "text": [
      "Enter your marks: 77\n",
      "Your Grade is B\n"
     ]
    }
   ],
   "source": [
    "marks = int(input(\"Enter your marks: \"))\n",
    "\n",
    "if (marks>80):\n",
    "    print(\"Your Grade is A\")\n",
    "elif (marks>60 and marks<=80):\n",
    "    print(\"Your Grade is B\")\n",
    "elif (marks>50 and marks<=60):\n",
    "    print(\"Your Grade is C\")\n",
    "elif (marks>45 and marks<=50):\n",
    "    print(\"Your Grade is D\")\n",
    "elif (marks>25 and marks<=45):\n",
    "    print(\"Your Grade is E\")\n",
    "else:\n",
    "    print(\"Your Grade is F\")    "
   ]
  },
  {
   "cell_type": "markdown",
   "metadata": {},
   "source": [
    "14)A student will not be allowed to sit in exam if his/her attendence is less than 75%.\n",
    "\n",
    "Take following input from user\n",
    "\n",
    "Number of classes held\n",
    "\n",
    "Number of classes attended.\n",
    "\n",
    "And print\n",
    "\n",
    "percentage of class attended\n",
    "\n",
    "Is student is allowed to sit in exam or not.\n"
   ]
  },
  {
   "cell_type": "code",
   "execution_count": 47,
   "metadata": {},
   "outputs": [
    {
     "name": "stdout",
     "output_type": "stream",
     "text": [
      "Enter number of classes held: 30\n",
      "Enter number of classes attended: 26\n",
      "Your attendance is 86 so you are allowed to sit in exam\n"
     ]
    }
   ],
   "source": [
    "classes_held = int(input(\"Enter number of classes held: \"))\n",
    "classes_att = int(input(\"Enter number of classes attended: \"))\n",
    "\n",
    "if ((classes_att/classes_held)*100) >= 75:\n",
    "    print(f\"Your attendance is {int((classes_att/classes_held)*100)} so you are allowed to sit in exam\")\n",
    "else:\n",
    "    print(f\"Your attendance is {int((classes_att/classes_held)*100)} so you are not allowed to sit in exam\")"
   ]
  },
  {
   "cell_type": "markdown",
   "metadata": {},
   "source": [
    "15) Modify the above question to allow student to sit if he/she has medical cause. Ask user if he/she has medical cause or not ( 'Y' or 'N' ) and print accordingly."
   ]
  },
  {
   "cell_type": "code",
   "execution_count": 48,
   "metadata": {},
   "outputs": [
    {
     "name": "stdout",
     "output_type": "stream",
     "text": [
      "Enter number of classes held: 30\n",
      "Enter number of classes attended: 20\n",
      "Do you have any medical cause: Y\n",
      "Your attendance is 66 but you are allowed to sit in exam\n"
     ]
    }
   ],
   "source": [
    "classes_held = int(input(\"Enter number of classes held: \"))\n",
    "classes_att = int(input(\"Enter number of classes attended: \"))\n",
    "\n",
    "if ((classes_att/classes_held)*100) >= 75:\n",
    "    print(f\"Your attendance is {int((classes_att/classes_held)*100)} so you are allowed to sit in exam\")\n",
    "else:\n",
    "    med = input(\"Do you have any medical cause: \")\n",
    "    if (med=='Y'):\n",
    "        print(f\"Your attendance is {int((classes_att/classes_held)*100)} but you are allowed to sit in exam\")\n",
    "    else:\n",
    "        print(f\"Your attendance is {int((classes_att/classes_held)*100)} so you are not allowed to sit in exam\")"
   ]
  },
  {
   "cell_type": "markdown",
   "metadata": {},
   "source": [
    "16) Write a program to check if a year is leap year or not.\n",
    "\n",
    "If a year is divisible by 4 then it is leap year but if the year is century year like 2000, 1900, 2100 then it must be divisible by 400."
   ]
  },
  {
   "cell_type": "code",
   "execution_count": 49,
   "metadata": {},
   "outputs": [
    {
     "name": "stdout",
     "output_type": "stream",
     "text": [
      "Enter a year: 1604\n",
      "It is a leap year\n"
     ]
    }
   ],
   "source": [
    "year = int(input(\"Enter a year: \"))\n",
    "if year%100==0:\n",
    "    if year%400==0:\n",
    "        print(\"It is a leap year\")\n",
    "    else:\n",
    "        print(\"It is not a leap year\")\n",
    "elif year%4==0:\n",
    "    print(\"It is a leap year\")\n",
    "else:\n",
    "    print(\"It is not a leap year\")"
   ]
  },
  {
   "cell_type": "markdown",
   "metadata": {},
   "source": [
    "17) Ask user to enter age, gender ( M or F ), marital status ( Y or N ) and then using following rules print their place of service.\n",
    "\n",
    "if employee is female, then she will work only in urban areas.\n",
    "\n",
    "if employee is a male and age is in between 20 to 40 then he may work in anywhere\n",
    "\n",
    "if employee is male and age is in between 40 t0 60 then he will work in urban areas only.\n",
    "\n",
    "And any other input of age should print \"ERROR\""
   ]
  },
  {
   "cell_type": "code",
   "execution_count": 50,
   "metadata": {},
   "outputs": [
    {
     "name": "stdout",
     "output_type": "stream",
     "text": [
      "Enter age: 45\n",
      "Enter gender (M or F): M\n",
      "You can only work in urban areas\n"
     ]
    }
   ],
   "source": [
    "age = int(input(\"Enter age: \"))\n",
    "gender = input(\"Enter gender (M or F): \")\n",
    "\n",
    "\"\"\" Over here I am not defining marital status variable as u said to only\n",
    "define those variables that u use in the code so we are not using marital status info anywhere in code \"\"\"\n",
    "# mar_status = input(\"Enter marital status (Y or N): \")\n",
    "\n",
    "if gender=='F' or (gender=='M' and age>=40 and age<=60): \n",
    "    print(\"You can only work in urban areas\")\n",
    "elif gender=='M' and age>=20 and age<40:\n",
    "    print(\"You can work anywhere\")\n",
    "else:\n",
    "    print(\"Error\")"
   ]
  },
  {
   "cell_type": "markdown",
   "metadata": {},
   "source": [
    "6) Write a program to calculate the electricity bill (accept number of unit from user) according to the following criteria :\n",
    "     Unit                                                     Price  \n",
    "uptp 100 units                                             no charge\n",
    "Next 200 units                                              Rs 5 per unit\n",
    "After 200 units                                             Rs 10 per unit\n",
    "(For example if input unit is 350 than total bill amount is Rs.3500\n",
    "(For example if input unit is 97 than total bill amount is Rs.0\n",
    "(For example if input unit is 150 than total bill amount is Rs.750"
   ]
  },
  {
   "cell_type": "code",
   "execution_count": 51,
   "metadata": {},
   "outputs": [
    {
     "name": "stdout",
     "output_type": "stream",
     "text": [
      "Enter number of units: 350\n",
      "Total bill: Rs. 3500\n"
     ]
    }
   ],
   "source": [
    "units = int(input(\"Enter number of units: \"))\n",
    "if units <=100:\n",
    "    print(\"Total bill: Rs.0\")\n",
    "elif units > 100 and units <=200:\n",
    "    print(\"Total bill: Rs.\",units*5)\n",
    "else:\n",
    "    print(\"Total bill: Rs.\",units*10)"
   ]
  },
  {
   "cell_type": "markdown",
   "metadata": {},
   "source": [
    "13) Take input of age of 3 people by user and determine oldest and youngest among them."
   ]
  },
  {
   "cell_type": "code",
   "execution_count": 52,
   "metadata": {},
   "outputs": [
    {
     "name": "stdout",
     "output_type": "stream",
     "text": [
      "Enter age of person 1: 11\n",
      "Enter age of person 2: 16\n",
      "Enter age of person 3: 12\n",
      "Person 2 is oldest\n",
      "Person 1 is youngest\n"
     ]
    }
   ],
   "source": [
    "age_1 = int(input(\"Enter age of person 1: \"))\n",
    "age_2 = int(input(\"Enter age of person 2: \"))\n",
    "age_3 = int(input(\"Enter age of person 3: \"))\n",
    "\n",
    "if age_1 > age_2 and age_1 > age_3:\n",
    "    print(\"Person 1 is oldest\")\n",
    "elif age_2 > age_1 and age_2 > age_3:\n",
    "    print(\"Person 2 is oldest\")\n",
    "elif age_3 > age_1 and age_3 > age_2:\n",
    "    print(\"Person 3 is oldest\")\n",
    "    \n",
    "if age_1 < age_2 and age_1 < age_3:\n",
    "    print(\"Person 1 is youngest\")\n",
    "elif age_2 < age_1 and age_2 < age_3:\n",
    "    print(\"Person 2 is youngest\")\n",
    "elif age_3 < age_1 and age_3 < age_2:\n",
    "    print(\"Person 3 is youngest\")    "
   ]
  }
 ],
 "metadata": {
  "kernelspec": {
   "display_name": "Python 3 (ipykernel)",
   "language": "python",
   "name": "python3"
  },
  "language_info": {
   "codemirror_mode": {
    "name": "ipython",
    "version": 3
   },
   "file_extension": ".py",
   "mimetype": "text/x-python",
   "name": "python",
   "nbconvert_exporter": "python",
   "pygments_lexer": "ipython3",
   "version": "3.9.13"
  }
 },
 "nbformat": 4,
 "nbformat_minor": 2
}
